{
 "cells": [
  {
   "cell_type": "code",
   "execution_count": 1,
   "metadata": {},
   "outputs": [],
   "source": [
    "import numpy as np\n",
    "import matplotlib.pyplot as plt\n",
    "import pandas as pd\n",
    "import os\n",
    "import sys"
   ]
  },
  {
   "cell_type": "markdown",
   "metadata": {},
   "source": [
    "### Data Schema"
   ]
  },
  {
   "cell_type": "code",
   "execution_count": 2,
   "metadata": {},
   "outputs": [],
   "source": [
    "# Dataschema for pandas\n",
    "\n",
    "data_schema_features = {\n",
    "    'TimeStamp': 'datetime64[ns]',\n",
    "    'Delta_TP9': 'float64',\n",
    "    'Delta_AF7': 'float64',\n",
    "    'Delta_AF8': 'float64',\n",
    "    'Delta_TP10': 'float64',\n",
    "    'Theta_TP9': 'float64',\n",
    "    'Theta_AF7': 'float64',\n",
    "    'Theta_AF8': 'float64',\n",
    "    'Theta_TP10': 'float64',\n",
    "    'Alpha_TP9': 'float64',\n",
    "    'Alpha_AF7': 'float64',\n",
    "    'Alpha_AF8': 'float64',\n",
    "    'Alpha_TP10': 'float64',\n",
    "    'Beta_TP9': 'float64',\n",
    "    'Beta_AF7': 'float64',\n",
    "    'Beta_AF8': 'float64',\n",
    "    'Beta_TP10': 'float64',\n",
    "    'Gamma_TP9': 'float64',\n",
    "    'Gamma_AF7': 'float64',\n",
    "    'Gamma_AF8': 'float64',\n",
    "    'Gamma_TP10': 'float64',\n",
    "}\n",
    "\n",
    "data_schema_labels = 'int64'  "
   ]
  },
  {
   "cell_type": "markdown",
   "metadata": {},
   "source": [
    "### Creating a Dataset for each feature and combining them"
   ]
  },
  {
   "cell_type": "code",
   "execution_count": 3,
   "metadata": {},
   "outputs": [
    {
     "name": "stderr",
     "output_type": "stream",
     "text": [
      "C:\\Users\\sachi\\AppData\\Local\\Temp\\ipykernel_23384\\1133156331.py:29: FutureWarning: The behavior of DataFrame concatenation with empty or all-NA entries is deprecated. In a future version, this will no longer exclude empty or all-NA columns when determining the result dtypes. To retain the old behavior, exclude the relevant entries before the concat operation.\n",
      "  dataset = pd.concat([dataset, data], axis=0)\n",
      "C:\\Users\\sachi\\AppData\\Local\\Temp\\ipykernel_23384\\1133156331.py:29: FutureWarning: The behavior of DataFrame concatenation with empty or all-NA entries is deprecated. In a future version, this will no longer exclude empty or all-NA columns when determining the result dtypes. To retain the old behavior, exclude the relevant entries before the concat operation.\n",
      "  dataset = pd.concat([dataset, data], axis=0)\n"
     ]
    }
   ],
   "source": [
    "left_hand_path = r\"C:\\Users\\sachi\\pyspark_tutorial\\muse_pipeline_sklearn\\Telepathic-Navigation\\muse_dataset\\Trial_2\\Left_hand\"\n",
    "right_hand_path = r\"C:\\Users\\sachi\\pyspark_tutorial\\muse_pipeline_sklearn\\Telepathic-Navigation\\muse_dataset\\Trial_2\\Right_hand\"\n",
    "\n",
    "columns = [\"TimeStamp\", \"Delta_TP9\", \"Delta_AF7\", \"Delta_AF8\", \"Delta_TP10\",\n",
    "    \"Theta_TP9\", \"Theta_AF7\", \"Theta_AF8\", \"Theta_TP10\",\n",
    "    \"Alpha_TP9\", \"Alpha_AF7\", \"Alpha_AF8\", \"Alpha_TP10\",\n",
    "    \"Beta_TP9\", \"Beta_AF7\", \"Beta_AF8\", \"Beta_TP10\",\n",
    "    \"Gamma_TP9\", \"Gamma_AF7\", \"Gamma_AF8\", \"Gamma_TP10\"]\n",
    "\n",
    "class CreateDataset:\n",
    "    def __init__(self, path, columns, labels, data_schema_features, data_schema_labels):\n",
    "        self.path = path\n",
    "        self.columns = columns\n",
    "        self.labels = labels\n",
    "        self.data_schema_features = data_schema_features\n",
    "        self.data_schema_labels = data_schema_labels\n",
    "\n",
    "    def create_dataset(self):\n",
    "        dataset = pd.DataFrame(columns=self.columns)\n",
    "        for file in os.listdir(self.path):\n",
    "            if file.endswith(\".csv\"):\n",
    "                file_path = os.path.join(self.path, file)\n",
    "                data = pd.read_csv(file_path, \n",
    "                                dtype={col: self.data_schema_features[col] for col in self.columns if col != 'TimeStamp'})\n",
    "                # Convert TimeStamp using mixed format\n",
    "                data['TimeStamp'] = pd.to_datetime(data['TimeStamp'], format='mixed')\n",
    "                data['TimeStamp'] = data['TimeStamp'].dt.second + data['TimeStamp'].dt.microsecond/1e6\n",
    "                data = data[self.columns]\n",
    "                dataset = pd.concat([dataset, data], axis=0)\n",
    "                dataset = dataset.dropna(thresh=len(self.columns)-1)\n",
    "        return dataset\n",
    "\n",
    "    def create_labeled_dataset(self):\n",
    "        features = self.create_dataset()\n",
    "        labels = pd.DataFrame([self.labels[0]] * features.shape[0], columns = [\"Label\"], dtype = self.data_schema_labels)\n",
    "        return features, labels\n",
    "        \n",
    "\n",
    "lh_features, lh_labels = CreateDataset(left_hand_path, columns, [0], data_schema_features, data_schema_labels).create_labeled_dataset()\n",
    "rh_features, rh_labels = CreateDataset(right_hand_path, columns, [1], data_schema_features, data_schema_labels).create_labeled_dataset()\n",
    "\n",
    "combined_features = pd.concat([lh_features, rh_features], axis = 0)\n",
    "combined_labels = pd.concat([lh_labels, rh_labels], axis = 0)\n"
   ]
  },
  {
   "cell_type": "markdown",
   "metadata": {},
   "source": [
    "### Test Train Split"
   ]
  },
  {
   "cell_type": "code",
   "execution_count": 4,
   "metadata": {},
   "outputs": [],
   "source": [
    "from sklearn.model_selection import train_test_split\n",
    "\n",
    "X_train, X_test, y_train, y_test = train_test_split(combined_features, combined_labels, \n",
    "                                                   test_size=0.2, \n",
    "                                                   random_state=42,\n",
    "                                                   shuffle=True)"
   ]
  },
  {
   "cell_type": "markdown",
   "metadata": {},
   "source": [
    "### Standard Scaler"
   ]
  },
  {
   "cell_type": "code",
   "execution_count": 5,
   "metadata": {},
   "outputs": [
    {
     "name": "stdout",
     "output_type": "stream",
     "text": [
      "(140668, 21) (35168, 21) (140668, 1) (35168, 1)\n",
      "     TimeStamp  Delta_TP9  Delta_AF7  Delta_AF8  Delta_TP10  Theta_TP9  \\\n",
      "630     35.214   0.638243   1.420622   0.319298    0.687382   0.592738   \n",
      "365     32.481   0.876766   0.690985   1.054223    1.127602  -0.085815   \n",
      "59      54.889   0.315172  -0.400929   0.274720    0.536818  -0.171290   \n",
      "412     24.523   1.349348   0.409278   0.966615    0.738380   1.455569   \n",
      "25      20.834   0.228382   1.019709   0.521155    0.371302  -0.196936   \n",
      "\n",
      "     Theta_AF7  Theta_AF8  Theta_TP10  Alpha_TP9  ...  Alpha_AF8  Alpha_TP10  \\\n",
      "630   0.567067  -0.603817    0.668544   1.554058  ...   0.274872    0.751559   \n",
      "365  -1.135744  -0.347132   -1.703911  -0.499625  ...  -0.203687   -1.019794   \n",
      "59   -0.244749   0.119225    0.336107   0.730019  ...   0.823473    1.340716   \n",
      "412   0.590866   0.878537    0.540620   0.404332  ...   0.393879    0.640895   \n",
      "25    1.812819   0.198461   -1.007273  -1.020843  ...  -0.419465   -0.283741   \n",
      "\n",
      "     Beta_TP9  Beta_AF7  Beta_AF8  Beta_TP10  Gamma_TP9  Gamma_AF7  Gamma_AF8  \\\n",
      "630  0.972916  0.437131  0.442072   0.504808   0.906963   0.099747   0.876479   \n",
      "365 -0.976368 -0.630154  0.199808  -0.218362   0.682817  -0.720977   0.026607   \n",
      "59   0.315920  1.691517 -0.352304   0.163336   0.176055   0.873450  -0.522954   \n",
      "412 -0.744722 -1.017466  0.353241  -0.142365   0.056321  -1.413557   0.411194   \n",
      "25   0.452645  2.116684 -0.573368   0.228563  -1.454748   1.945270  -0.696729   \n",
      "\n",
      "     Gamma_TP10  \n",
      "630    1.418133  \n",
      "365    0.385154  \n",
      "59     0.326098  \n",
      "412   -0.592298  \n",
      "25    -1.049843  \n",
      "\n",
      "[5 rows x 21 columns]\n"
     ]
    }
   ],
   "source": [
    "from sklearn.preprocessing import StandardScaler\n",
    "import pickle\n",
    "\n",
    "scaler = StandardScaler()\n",
    "\n",
    "X_train.iloc[:, 1:] = scaler.fit_transform(X_train.iloc[:, 1:])\n",
    "X_test.iloc[:, 1:] = scaler.transform(X_test.iloc[:, 1:])\n",
    "\n",
    "\n",
    "def save_scaler(scaler: StandardScaler, path: str='scaler.pkl') -> None:\n",
    "    \"\"\"Save scaler to disk\"\"\"\n",
    "    with open(path, 'wb') as f:\n",
    "        pickle.dump(scaler, f)\n",
    "\n",
    "def load_scaler(path: str='scaler.pkl') -> StandardScaler:\n",
    "    \"\"\"Load saved scaler from disk\"\"\"\n",
    "    with open(path, 'rb') as f:\n",
    "        return pickle.load(f)\n",
    "    \n",
    "save_scaler(scaler)\n",
    "\n",
    "print(X_train.shape, X_test.shape, y_train.shape, y_test.shape)\n",
    "\n",
    "print(X_train.head())"
   ]
  },
  {
   "cell_type": "markdown",
   "metadata": {},
   "source": [
    "### Creating a Logistic Regressional Classifier"
   ]
  },
  {
   "cell_type": "code",
   "execution_count": null,
   "metadata": {},
   "outputs": [],
   "source": [
    "from sklearn.linear_model import LogisticRegression\n",
    "\n",
    "clf = LogisticRegression(random_state=0, max_iter=1000).fit(X_train.iloc[:, 1:], y_train.values.ravel())\n",
    "\n",
    "y_pred = clf.predict(X_test.iloc[:, 1:])\n",
    "\n",
    "from sklearn.metrics import accuracy_score\n",
    "\n",
    "print(accuracy_score(y_test, y_pred))"
   ]
  },
  {
   "cell_type": "markdown",
   "metadata": {},
   "source": [
    "### Creating a Classifier using K Nearest Neighbour"
   ]
  },
  {
   "cell_type": "code",
   "execution_count": null,
   "metadata": {},
   "outputs": [
    {
     "name": "stdout",
     "output_type": "stream",
     "text": [
      "1.0\n"
     ]
    }
   ],
   "source": [
    "from sklearn.neighbors import KNeighborsClassifier\n",
    "\n",
    "neigh = KNeighborsClassifier(n_neighbors=5).fit(X_train.iloc[:, 1:], y_train.values.ravel())\n",
    "\n",
    "y_pred = neigh.predict(X_test.iloc[:, 1:])\n",
    "\n",
    "print(accuracy_score(y_test, y_pred))"
   ]
  },
  {
   "cell_type": "markdown",
   "metadata": {},
   "source": [
    "### Creating a Classifier using Support Vector Machines"
   ]
  },
  {
   "cell_type": "code",
   "execution_count": 83,
   "metadata": {},
   "outputs": [
    {
     "name": "stdout",
     "output_type": "stream",
     "text": [
      "0.8478161965423112\n"
     ]
    }
   ],
   "source": [
    "from sklearn.svm import SVC\n",
    "\n",
    "svm = SVC(kernel='linear').fit(X_train.iloc[:, 1:], y_train.values.ravel())\n",
    "\n",
    "y_pred = svm.predict(X_test.iloc[:, 1:])\n",
    "\n",
    "print(accuracy_score(y_test, y_pred))\n"
   ]
  },
  {
   "cell_type": "markdown",
   "metadata": {},
   "source": [
    "### Creating a Classifier using Random Forest Classifiers"
   ]
  },
  {
   "cell_type": "code",
   "execution_count": 84,
   "metadata": {},
   "outputs": [
    {
     "name": "stdout",
     "output_type": "stream",
     "text": [
      "0.8346223839854413\n"
     ]
    }
   ],
   "source": [
    "from sklearn.ensemble import RandomForestClassifier\n",
    "\n",
    "rf = RandomForestClassifier(max_depth=2, random_state=0).fit(X_train.iloc[:, 1:], y_train.values.ravel())\n",
    "\n",
    "y_pred = rf.predict(X_test.iloc[:, 1:])\n",
    "\n",
    "print(accuracy_score(y_test, y_pred))\n"
   ]
  },
  {
   "cell_type": "markdown",
   "metadata": {},
   "source": [
    "### Creating a Classifier using Decision Tree Classifiers"
   ]
  },
  {
   "cell_type": "code",
   "execution_count": 85,
   "metadata": {},
   "outputs": [
    {
     "name": "stdout",
     "output_type": "stream",
     "text": [
      "0.9999715650591446\n"
     ]
    }
   ],
   "source": [
    "from sklearn.tree import DecisionTreeClassifier\n",
    "\n",
    "dt = DecisionTreeClassifier(random_state=0).fit(X_train.iloc[:, 1:], y_train.values.ravel())\n",
    "\n",
    "y_pred = dt.predict(X_test.iloc[:, 1:])\n",
    "\n",
    "print(accuracy_score(y_test, y_pred))"
   ]
  },
  {
   "cell_type": "markdown",
   "metadata": {},
   "source": [
    "### Creating an ensemble of Models"
   ]
  },
  {
   "cell_type": "code",
   "execution_count": 6,
   "metadata": {},
   "outputs": [],
   "source": [
    "from sklearn.base import BaseEstimator, ClassifierMixin\n",
    "import pickle\n",
    "\n",
    "class VotingEnsemble(BaseEstimator, ClassifierMixin):\n",
    "    def __init__(self, models):\n",
    "        self.models = models\n",
    "        \n",
    "    def fit(self, X, y):\n",
    "        for model in self.models:\n",
    "            print(model)\n",
    "            model.fit(X, y)\n",
    "        return self\n",
    "        \n",
    "    def predict(self, X):\n",
    "        predictions = np.column_stack([\n",
    "            model.predict(X) for model in self.models\n",
    "        ])\n",
    "        # Majority voting\n",
    "        return np.apply_along_axis(\n",
    "            lambda x: np.bincount(x).argmax(), \n",
    "            axis=1, \n",
    "            arr=predictions)\n",
    "    \n",
    "    def save(self, filename):\n",
    "        \"\"\"Saves the ensemble model to a file.\"\"\"\n",
    "        with open(filename, 'wb') as f:\n",
    "            pickle.dump(self, f)\n",
    "\n",
    "    @staticmethod\n",
    "    def load(filename):\n",
    "        \"\"\"Loads the ensemble model from a file.\"\"\"\n",
    "        with open(filename, 'rb') as f:\n",
    "            return pickle.load(f)\n"
   ]
  },
  {
   "cell_type": "code",
   "execution_count": 7,
   "metadata": {},
   "outputs": [
    {
     "name": "stdout",
     "output_type": "stream",
     "text": [
      "LogisticRegression(max_iter=1000, random_state=0)\n",
      "KNeighborsClassifier()\n",
      "RandomForestClassifier(max_depth=2, random_state=0)\n",
      "DecisionTreeClassifier(random_state=0)\n",
      "0.9225716560509554\n"
     ]
    }
   ],
   "source": [
    "from sklearn.linear_model import LogisticRegression\n",
    "from sklearn.neighbors import KNeighborsClassifier\n",
    "from sklearn.svm import SVC\n",
    "from sklearn.ensemble import RandomForestClassifier\n",
    "from sklearn.tree import DecisionTreeClassifier\n",
    "\n",
    "clf = LogisticRegression(random_state=0, max_iter=1000)\n",
    "neigh = KNeighborsClassifier(n_neighbors=5)\n",
    "svm = SVC(kernel='linear')\n",
    "rf = RandomForestClassifier(max_depth=2, random_state=0)\n",
    "dt = DecisionTreeClassifier(random_state=0)\n",
    "\n",
    "from sklearn.metrics import accuracy_score\n",
    "\n",
    "ensemble_model = VotingEnsemble(models=[clf, neigh, rf, dt])\n",
    "ensemble_model.fit(X_train.iloc[:, 1:], y_train.values.ravel())\n",
    "\n",
    "# Store predictions\n",
    "y_pred = ensemble_model.predict(X_test.iloc[:, 1:])\n",
    "\n",
    "ensemble_model.save('ensemble_model.pkl')\n",
    "# Calculate accuracy\n",
    "print(accuracy_score(y_test, y_pred))"
   ]
  },
  {
   "cell_type": "code",
   "execution_count": null,
   "metadata": {},
   "outputs": [],
   "source": [
    "import pickle"
   ]
  },
  {
   "cell_type": "markdown",
   "metadata": {},
   "source": [
    "### Statistical Analysis"
   ]
  },
  {
   "cell_type": "code",
   "execution_count": 80,
   "metadata": {},
   "outputs": [
    {
     "name": "stdout",
     "output_type": "stream",
     "text": [
      "[[16335  2320]\n",
      " [ 3219 13294]]\n",
      "              precision    recall  f1-score   support\n",
      "\n",
      "           0       0.84      0.88      0.86     18655\n",
      "           1       0.85      0.81      0.83     16513\n",
      "\n",
      "    accuracy                           0.84     35168\n",
      "   macro avg       0.84      0.84      0.84     35168\n",
      "weighted avg       0.84      0.84      0.84     35168\n",
      "\n",
      "0.8403496182267675\n"
     ]
    },
    {
     "data": {
      "image/png": "[encoded data removed]",
      "text/plain": [
       "<Figure size 640x480 with 1 Axes>"
      ]
     },
     "metadata": {},
     "output_type": "display_data"
    },
    {
     "data": {
      "image/png": "[encoded data removed]",
      "text/plain": [
       "<Figure size 640x480 with 1 Axes>"
      ]
     },
     "metadata": {},
     "output_type": "display_data"
    }
   ],
   "source": [
    "from sklearn.metrics import confusion_matrix\n",
    "\n",
    "print(confusion_matrix(y_test, y_pred))\n",
    "\n",
    "from sklearn.metrics import classification_report\n",
    "\n",
    "print(classification_report(y_test, y_pred))\n",
    "\n",
    "from sklearn.metrics import roc_auc_score\n",
    "\n",
    "print(roc_auc_score(y_test, y_pred))\n",
    "\n",
    "from sklearn.metrics import roc_curve\n",
    "\n",
    "fpr, tpr, thresholds = roc_curve(y_test, y_pred)\n",
    "\n",
    "plt.plot(fpr, tpr, color='darkorange', lw=2)\n",
    "\n",
    "plt.plot([0, 1], [0, 1], color='navy', lw=2, linestyle='--')\n",
    "\n",
    "plt.xlim([0.0, 1.0])\n",
    "\n",
    "plt.ylim([0.0, 1.05])\n",
    "\n",
    "plt.xlabel('False Positive Rate')\n",
    "\n",
    "plt.ylabel('True Positive Rate')\n",
    "\n",
    "plt.title('Receiver operating characteristic example')\n",
    "\n",
    "plt.show()\n",
    "\n",
    "from sklearn.metrics import precision_recall_curve\n",
    "\n",
    "precision, recall, thresholds = precision_recall_curve(y_test, y_pred)\n",
    "\n",
    "plt.plot(recall, precision, color='darkorange', lw=2)\n",
    "\n",
    "plt.xlim([0.0, 1.0])\n",
    "\n",
    "plt.ylim([0.0, 1.05])\n",
    "\n",
    "plt.xlabel('Recall')\n",
    "\n",
    "plt.ylabel('Precision')\n",
    "\n",
    "plt.title('Precision-Recall curve')\n",
    "\n",
    "plt.show()\n",
    "\n",
    "\n"
   ]
  }
 ],
 "metadata": {
  "kernelspec": {
   "display_name": "base",
   "language": "python",
   "name": "python3"
  },
  "language_info": {
   "codemirror_mode": {
    "name": "ipython",
    "version": 3
   },
   "file_extension": ".py",
   "mimetype": "text/x-python",
   "name": "python",
   "nbconvert_exporter": "python",
   "pygments_lexer": "ipython3",
   "version": "3.11.5"
  }
 },
 "nbformat": 4,
 "nbformat_minor": 2
}
